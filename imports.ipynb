{
 "cells": [
  {
   "cell_type": "code",
   "execution_count": null,
   "id": "b8c3b589-3764-42b6-9230-eedecd16a4e8",
   "metadata": {},
   "outputs": [],
   "source": [
    "import streamlit as st\n",
    "from datetime import datetime,timedelta\n",
    "import yfinance as yf\n",
    "from joblib import load\n",
    "from sklearn.ensemble import RandomForestClassifier\n",
    "from sklearn.metrics import precision_score, f1_score, recall_score\n",
    "import numpy\n",
    "import pandas as pd\n",
    "\n",
    "# my modules\n",
    "from data_fetch import basic_df, df_with_target\n",
    "from predict import backtest\n",
    "\n",
    "# Load your trained model (adjust the path as necessary)\n",
    "model = load('/home/jgarcia/Capstone/jgarcia_model.pkl')\n"
   ]
  },
  {
   "cell_type": "code",
   "execution_count": null,
   "id": "89ac9278-1af7-408a-85ab-111789433826",
   "metadata": {},
   "outputs": [],
   "source": []
  }
 ],
 "metadata": {
  "kernelspec": {
   "display_name": "Python 3 (ipykernel)",
   "language": "python",
   "name": "python3"
  },
  "language_info": {
   "codemirror_mode": {
    "name": "ipython",
    "version": 3
   },
   "file_extension": ".py",
   "mimetype": "text/x-python",
   "name": "python",
   "nbconvert_exporter": "python",
   "pygments_lexer": "ipython3",
   "version": "3.10.12"
  }
 },
 "nbformat": 4,
 "nbformat_minor": 5
}
